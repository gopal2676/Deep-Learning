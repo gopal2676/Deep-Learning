{
 "cells": [
  {
   "cell_type": "markdown",
   "metadata": {},
   "source": [
    "# Learning markov chain text generation"
   ]
  },
  {
   "cell_type": "markdown",
   "metadata": {},
   "source": [
    "Assignment is to use this model on \"Apna time aayega \" song . LOL . Sounds cool."
   ]
  },
  {
   "cell_type": "code",
   "execution_count": 26,
   "metadata": {},
   "outputs": [],
   "source": [
    "text = \"hello there.Howellod arellofc you doing todayellof heello.Aren't you cute?\""
   ]
  },
  {
   "cell_type": "markdown",
   "metadata": {},
   "source": [
    "We will have to make a dictionary of frequency followed by the probability of any character coming after a fixed length word(which we decide initially)."
   ]
  },
  {
   "cell_type": "code",
   "execution_count": 42,
   "metadata": {},
   "outputs": [],
   "source": [
    "def TextToFreq(text,k=3):\n",
    "    T = {}\n",
    "    for i in range(len(text)-k):\n",
    "        curr_word = text[i:i+k]\n",
    "        next_char = text[i+k]\n",
    "        if(curr_word in T):\n",
    "            if next_char in T[curr_word]:\n",
    "                T[curr_word][next_char] += 1\n",
    "            else:\n",
    "                T[curr_word][next_char] = 1\n",
    "        else:\n",
    "            T[curr_word] = {}\n",
    "            T[curr_word][next_char] = 1\n",
    "    return T"
   ]
  },
  {
   "cell_type": "code",
   "execution_count": 44,
   "metadata": {},
   "outputs": [
    {
     "name": "stdout",
     "output_type": "stream",
     "text": [
      "{'hel': {'l': 1}, 'ell': {'o': 5}, 'llo': {' ': 1, 'd': 1, 'f': 2, '.': 1}, 'lo ': {'t': 1}, 'o t': {'h': 1}, ' th': {'e': 1}, 'the': {'r': 1}, 'her': {'e': 1}, 'ere': {'.': 1}, 're.': {'H': 1}, 'e.H': {'o': 1}, '.Ho': {'w': 1}, 'How': {'e': 1}, 'owe': {'l': 1}, 'wel': {'l': 1}, 'lod': {' ': 1}, 'od ': {'a': 1}, 'd a': {'r': 1}, ' ar': {'e': 1}, 'are': {'l': 1}, 'rel': {'l': 1}, 'lof': {'c': 1, ' ': 1}, 'ofc': {' ': 1}, 'fc ': {'y': 1}, 'c y': {'o': 1}, ' yo': {'u': 2}, 'you': {' ': 2}, 'ou ': {'d': 1, 'c': 1}, 'u d': {'o': 1}, ' do': {'i': 1}, 'doi': {'n': 1}, 'oin': {'g': 1}, 'ing': {' ': 1}, 'ng ': {'t': 1}, 'g t': {'o': 1}, ' to': {'d': 1}, 'tod': {'a': 1}, 'oda': {'y': 1}, 'day': {'e': 1}, 'aye': {'l': 1}, 'yel': {'l': 1}, 'of ': {'h': 1}, 'f h': {'e': 1}, ' he': {'e': 1}, 'hee': {'l': 1}, 'eel': {'l': 1}, 'lo.': {'A': 1}, 'o.A': {'r': 1}, '.Ar': {'e': 1}, 'Are': {'n': 1}, 'ren': {\"'\": 1}, \"en'\": {'t': 1}, \"n't\": {' ': 1}, \"'t \": {'y': 1}, 't y': {'o': 1}, 'u c': {'u': 1}, ' cu': {'t': 1}, 'cut': {'e': 1}, 'ute': {'?': 1}}\n"
     ]
    }
   ],
   "source": [
    "T=TextToFreq(text)\n",
    "print(T)"
   ]
  },
  {
   "cell_type": "markdown",
   "metadata": {},
   "source": [
    "Next we have to change it to it's probability"
   ]
  },
  {
   "cell_type": "code",
   "execution_count": 45,
   "metadata": {},
   "outputs": [],
   "source": [
    "def FreqToProb(T):\n",
    "    for words in T.keys():\n",
    "        deno = float(sum(T[words].values()))\n",
    "        for next_words in T[words].keys():\n",
    "            T[words][next_words] = T[words][next_words]/deno\n",
    "    return T"
   ]
  },
  {
   "cell_type": "code",
   "execution_count": 46,
   "metadata": {},
   "outputs": [
    {
     "name": "stdout",
     "output_type": "stream",
     "text": [
      "{'hel': {'l': 1.0}, 'ell': {'o': 1.0}, 'llo': {' ': 0.2, 'd': 0.2, 'f': 0.4, '.': 0.2}, 'lo ': {'t': 1.0}, 'o t': {'h': 1.0}, ' th': {'e': 1.0}, 'the': {'r': 1.0}, 'her': {'e': 1.0}, 'ere': {'.': 1.0}, 're.': {'H': 1.0}, 'e.H': {'o': 1.0}, '.Ho': {'w': 1.0}, 'How': {'e': 1.0}, 'owe': {'l': 1.0}, 'wel': {'l': 1.0}, 'lod': {' ': 1.0}, 'od ': {'a': 1.0}, 'd a': {'r': 1.0}, ' ar': {'e': 1.0}, 'are': {'l': 1.0}, 'rel': {'l': 1.0}, 'lof': {'c': 0.5, ' ': 0.5}, 'ofc': {' ': 1.0}, 'fc ': {'y': 1.0}, 'c y': {'o': 1.0}, ' yo': {'u': 1.0}, 'you': {' ': 1.0}, 'ou ': {'d': 0.5, 'c': 0.5}, 'u d': {'o': 1.0}, ' do': {'i': 1.0}, 'doi': {'n': 1.0}, 'oin': {'g': 1.0}, 'ing': {' ': 1.0}, 'ng ': {'t': 1.0}, 'g t': {'o': 1.0}, ' to': {'d': 1.0}, 'tod': {'a': 1.0}, 'oda': {'y': 1.0}, 'day': {'e': 1.0}, 'aye': {'l': 1.0}, 'yel': {'l': 1.0}, 'of ': {'h': 1.0}, 'f h': {'e': 1.0}, ' he': {'e': 1.0}, 'hee': {'l': 1.0}, 'eel': {'l': 1.0}, 'lo.': {'A': 1.0}, 'o.A': {'r': 1.0}, '.Ar': {'e': 1.0}, 'Are': {'n': 1.0}, 'ren': {\"'\": 1.0}, \"en'\": {'t': 1.0}, \"n't\": {' ': 1.0}, \"'t \": {'y': 1.0}, 't y': {'o': 1.0}, 'u c': {'u': 1.0}, ' cu': {'t': 1.0}, 'cut': {'e': 1.0}, 'ute': {'?': 1.0}}\n"
     ]
    }
   ],
   "source": [
    "T = FreqToProb(T)\n",
    "print(T)"
   ]
  },
  {
   "cell_type": "code",
   "execution_count": 48,
   "metadata": {},
   "outputs": [
    {
     "name": "stdout",
     "output_type": "stream",
     "text": [
      "1.0\n"
     ]
    }
   ],
   "source": [
    "print(sum(T['ell'].values()))"
   ]
  },
  {
   "cell_type": "code",
   "execution_count": 58,
   "metadata": {},
   "outputs": [],
   "source": [
    "import numpy as np\n",
    "def GenerateNextChar(context,T,k=3):\n",
    "    # context : is a sentence to which we will append the next char\n",
    "    # T : dictionary\n",
    "    last_k_characters = context[-k:]\n",
    "    #if the last_k_characters exist in our dictionary, we will choose a next character. else we gonna put a space.\n",
    "    if last_k_characters not in T:\n",
    "        context+= ' '\n",
    "    else:\n",
    "        next_char_keys = list(T[last_k_characters])\n",
    "        next_char_possibility = list(T[last_k_characters].values())\n",
    "        next_character = np.random.choice(next_char_keys,p=next_char_possibility)\n",
    "        context+= next_character\n",
    "    return context\n",
    "        "
   ]
  },
  {
   "cell_type": "code",
   "execution_count": 59,
   "metadata": {},
   "outputs": [],
   "source": [
    "def GenerateText(sentence,max_length = 30):\n",
    "    for i in range(max_length):\n",
    "        sentence = GenerateNextChar(sentence,T,k=3)\n",
    "    return sentence"
   ]
  },
  {
   "cell_type": "code",
   "execution_count": 61,
   "metadata": {
    "scrolled": true
   },
   "outputs": [
    {
     "name": "stdout",
     "output_type": "stream",
     "text": [
      "you doing todayello.Aren't you cute?   \n"
     ]
    }
   ],
   "source": [
    "sentence = 'you doing'\n",
    "sentence = GenerateText(sentence,30)\n",
    "print(sentence)"
   ]
  },
  {
   "cell_type": "markdown",
   "metadata": {},
   "source": [
    "Well, that worked ok. Let's train it on the song."
   ]
  },
  {
   "cell_type": "code",
   "execution_count": 73,
   "metadata": {},
   "outputs": [],
   "source": [
    "def load_txt(path):\n",
    "    with open(path,'r') as reader:\n",
    "        return reader.read()"
   ]
  },
  {
   "cell_type": "code",
   "execution_count": 75,
   "metadata": {},
   "outputs": [
    {
     "name": "stdout",
     "output_type": "stream",
     "text": [
      "Apna Time Aayega\n",
      "Uth ja apni raakh se\n",
      "Tu udd ja ab talaash mein\n",
      "Parwaaz dekh parwane ki\n",
      "Aasman bhi sar uthayega\n",
      "Aayega apna time aayega\n",
      "Mere jaisa shaana lala\n",
      "Tujhe na mil payega\n",
      " \n",
      "Yeh shabdon ka jwala\n",
      "Meri bediyan pighlayega\n",
      "Jitna toone boya hai tu\n",
      "Utna hi to khaayega\n",
      "Aisa mera khwaab hai\n",
      "Jo darr ko bhi satayega\n",
      "Zinda mera khwaab\n",
      "Ab kaise tu dafnayega\n",
      " \n",
      "Ab hausle se jeene de\n",
      "Ab khauf nahi hai seene mein\n",
      "Har raaste ko cheerenge\n",
      "Hum kaamyabi chheenenge\n",
      "Sab kuchh mila paseene se\n",
      "Matlab bana ab jeene mein\n",
      " \n",
      "Kyon\n",
      "Kyon ki apna time aayega\n",
      " \n",
      "Tu nanga hi to aaya hai\n",
      "Kya ghanta lekar jaayega\n",
      "Apna time aayega\n",
      "Apna time aayega\n",
      "Apna time aayega x (2)\n",
      " \n",
      "Tu nanga hi to aaya hai\n",
      "Kya ghanta lekar..\n",
      " \n",
      "Kissi ka hath nahi tha sar par\n",
      "Yahaan par aaya khud ki mehnat se main\n",
      "Jitni taakat kismat mein nahi\n",
      "Utni rehmat mein hai\n",
      "Phir bhi ladka sehmat nahin hai\n",
      "Kyon ki hairat nahi hai\n",
      "Zaroorat yahaan marzi ki\n",
      "Aur jurrat ki hai\n",
      " \n",
      "Taakat ki hai, aafat ki\n",
      "Himaakat ki, ibaadat ki\n",
      "Adalat yeh hai chahat ki\n",
      "Mohobbat ki, amaanat ki\n",
      "Jeetne ki ab aadat ki hai\n",
      "Shohrat ki ab laalach nai hai\n",
      "Tere bhai jaisa koyi hardâ€™ch nai hai\n",
      " \n",
      "Iss harkat ne hi barkat di hai\n",
      "Kyon?\n",
      " \n",
      "Tu nanga hi to aaya hai\n",
      "Kya ghanta lekar jaayega\n",
      "Apna time aayega\n",
      "Apna time aayega\n",
      "Apna time aayega\n",
      " \n",
      "Tu nanga hi to aaya hai\n",
      "Kya ghanta lekar jaayega\n",
      "Kya tu ghanta lekar jaayega\n",
      "Apna time aayega\n",
      "Apna time aayega\n"
     ]
    }
   ],
   "source": [
    "# we have to read the text file\n",
    "path = '/Users/gopal/apnatime.txt'\n",
    "song = load_txt(path)\n",
    "print(song)\n"
   ]
  },
  {
   "cell_type": "code",
   "execution_count": 82,
   "metadata": {
    "scrolled": false
   },
   "outputs": [
    {
     "name": "stdout",
     "output_type": "stream",
     "text": [
      "{'Apna': {' ': 1.0}, 'pna ': {'T': 0.09090909090909091, 't': 0.9090909090909091}, 'na T': {'i': 1.0}, 'a Ti': {'m': 1.0}, ' Tim': {'e': 1.0}, 'Time': {' ': 1.0}, 'ime ': {'A': 0.09090909090909091, 'a': 0.9090909090909091}, 'me A': {'a': 1.0}, 'e Aa': {'y': 1.0}, ' Aay': {'e': 1.0}, 'Aaye': {'g': 1.0}, 'ayeg': {'a': 1.0}, 'yega': {'\\n': 0.9047619047619048, ' ': 0.09523809523809523}, 'ega\\n': {'U': 0.05263157894736842, 'A': 0.5263157894736842, 'M': 0.05263157894736842, ' ': 0.21052631578947367, 'J': 0.05263157894736842, 'Z': 0.05263157894736842, 'K': 0.05263157894736842}, 'ga\\nU': {'t': 1.0}, 'a\\nUt': {'h': 1.0}, '\\nUth': {' ': 1.0}, 'Uth ': {'j': 1.0}, 'th j': {'a': 1.0}, 'h ja': {' ': 1.0}, ' ja ': {'a': 1.0}, 'ja a': {'p': 0.5, 'b': 0.5}, 'a ap': {'n': 1.0}, ' apn': {'i': 0.3333333333333333, 'a': 0.6666666666666666}, 'apni': {' ': 1.0}, 'pni ': {'r': 1.0}, 'ni r': {'a': 0.5, 'e': 0.5}, 'i ra': {'a': 1.0}, ' raa': {'k': 0.5, 's': 0.5}, 'raak': {'h': 1.0}, 'aakh': {' ': 1.0}, 'akh ': {'s': 1.0}, 'kh s': {'e': 1.0}, 'h se': {'\\n': 1.0}, ' se\\n': {'T': 0.5, 'M': 0.5}, 'se\\nT': {'u': 1.0}, 'e\\nTu': {' ': 1.0}, '\\nTu ': {'u': 0.2, 'n': 0.8}, 'Tu u': {'d': 1.0}, 'u ud': {'d': 1.0}, ' udd': {' ': 1.0}, 'udd ': {'j': 1.0}, 'dd j': {'a': 1.0}, 'd ja': {' ': 1.0}, 'a ab': {' ': 1.0}, ' ab ': {'t': 0.25, 'j': 0.25, 'a': 0.25, 'l': 0.25}, 'ab t': {'a': 1.0}, 'b ta': {'l': 1.0}, ' tal': {'a': 1.0}, 'tala': {'a': 1.0}, 'alaa': {'s': 1.0}, 'laas': {'h': 1.0}, 'aash': {' ': 1.0}, 'ash ': {'m': 1.0}, 'sh m': {'e': 1.0}, 'h me': {'i': 1.0}, ' mei': {'n': 1.0}, 'mein': {'\\n': 0.6, ' ': 0.4}, 'ein\\n': {'P': 0.3333333333333333, 'H': 0.3333333333333333, ' ': 0.3333333333333333}, 'in\\nP': {'a': 1.0}, 'n\\nPa': {'r': 1.0}, '\\nPar': {'w': 1.0}, 'Parw': {'a': 1.0}, 'arwa': {'a': 0.5, 'n': 0.5}, 'rwaa': {'z': 1.0}, 'waaz': {' ': 1.0}, 'aaz ': {'d': 1.0}, 'az d': {'e': 1.0}, 'z de': {'k': 1.0}, ' dek': {'h': 1.0}, 'dekh': {' ': 1.0}, 'ekh ': {'p': 1.0}, 'kh p': {'a': 1.0}, 'h pa': {'r': 1.0}, ' par': {'w': 0.3333333333333333, '\\n': 0.3333333333333333, ' ': 0.3333333333333333}, 'parw': {'a': 1.0}, 'rwan': {'e': 1.0}, 'wane': {' ': 1.0}, 'ane ': {'k': 1.0}, 'ne k': {'i': 1.0}, 'e ki': {'\\n': 0.5, ' ': 0.5}, ' ki\\n': {'A': 0.5, 'H': 0.16666666666666666, 'M': 0.16666666666666666, 'J': 0.16666666666666666}, 'ki\\nA': {'a': 0.3333333333333333, 'u': 0.3333333333333333, 'd': 0.3333333333333333}, 'i\\nAa': {'s': 1.0}, '\\nAas': {'m': 1.0}, 'Aasm': {'a': 1.0}, 'asma': {'n': 1.0}, 'sman': {' ': 1.0}, 'man ': {'b': 1.0}, 'an b': {'h': 1.0}, 'n bh': {'i': 1.0}, ' bhi': {' ': 1.0}, 'bhi ': {'s': 0.6666666666666666, 'l': 0.3333333333333333}, 'hi s': {'a': 1.0}, 'i sa': {'r': 0.5, 't': 0.5}, ' sar': {' ': 1.0}, 'sar ': {'u': 0.5, 'p': 0.5}, 'ar u': {'t': 1.0}, 'r ut': {'h': 1.0}, ' uth': {'a': 1.0}, 'utha': {'y': 1.0}, 'thay': {'e': 1.0}, 'haye': {'g': 1.0}, 'ga\\nA': {'a': 0.1, 'i': 0.1, 'p': 0.8}, 'a\\nAa': {'y': 1.0}, '\\nAay': {'e': 1.0}, 'ega ': {'a': 0.5, 'x': 0.5}, 'ga a': {'p': 1.0}, 'apna': {' ': 1.0}, 'na t': {'i': 0.9090909090909091, 'o': 0.09090909090909091}, 'a ti': {'m': 1.0}, ' tim': {'e': 1.0}, 'time': {' ': 1.0}, 'me a': {'a': 1.0}, 'e aa': {'y': 1.0}, ' aay': {'e': 0.6666666666666666, 'a': 0.3333333333333333}, 'aaye': {'g': 1.0}, 'ga\\nM': {'e': 1.0}, 'a\\nMe': {'r': 1.0}, '\\nMer': {'e': 0.5, 'i': 0.5}, 'Mere': {' ': 1.0}, 'ere ': {'j': 0.5, 'b': 0.5}, 're j': {'a': 1.0}, 'e ja': {'i': 1.0}, ' jai': {'s': 1.0}, 'jais': {'a': 1.0}, 'aisa': {' ': 1.0}, 'isa ': {'s': 0.3333333333333333, 'm': 0.3333333333333333, 'k': 0.3333333333333333}, 'sa s': {'h': 1.0}, 'a sh': {'a': 1.0}, ' sha': {'a': 0.5, 'b': 0.5}, 'shaa': {'n': 1.0}, 'haan': {'a': 0.3333333333333333, ' ': 0.6666666666666666}, 'aana': {' ': 0.5, 't': 0.5}, 'ana ': {'l': 0.5, 'a': 0.5}, 'na l': {'a': 1.0}, 'a la': {'l': 1.0}, ' lal': {'a': 1.0}, 'lala': {'\\n': 1.0}, 'ala\\n': {'T': 0.5, 'M': 0.5}, 'la\\nT': {'u': 1.0}, 'a\\nTu': {'j': 1.0}, '\\nTuj': {'h': 1.0}, 'Tujh': {'e': 1.0}, 'ujhe': {' ': 1.0}, 'jhe ': {'n': 1.0}, 'he n': {'a': 1.0}, 'e na': {' ': 1.0}, ' na ': {'m': 1.0}, 'na m': {'i': 1.0}, 'a mi': {'l': 1.0}, ' mil': {' ': 0.5, 'a': 0.5}, 'mil ': {'p': 1.0}, 'il p': {'a': 1.0}, 'l pa': {'y': 1.0}, ' pay': {'e': 1.0}, 'paye': {'g': 1.0}, 'ga\\n ': {'\\n': 1.0}, 'a\\n \\n': {'Y': 0.25, 'A': 0.25, 'T': 0.5}, '\\n \\nY': {'e': 1.0}, ' \\nYe': {'h': 1.0}, '\\nYeh': {' ': 1.0}, 'Yeh ': {'s': 1.0}, 'eh s': {'h': 1.0}, 'h sh': {'a': 1.0}, 'shab': {'d': 1.0}, 'habd': {'o': 1.0}, 'abdo': {'n': 1.0}, 'bdon': {' ': 1.0}, 'don ': {'k': 1.0}, 'on k': {'a': 0.3333333333333333, 'i': 0.6666666666666666}, 'n ka': {' ': 1.0}, ' ka ': {'j': 0.5, 'h': 0.5}, 'ka j': {'w': 1.0}, 'a jw': {'a': 1.0}, ' jwa': {'l': 1.0}, 'jwal': {'a': 1.0}, 'wala': {'\\n': 1.0}, 'la\\nM': {'e': 1.0}, 'Meri': {' ': 1.0}, 'eri ': {'b': 1.0}, 'ri b': {'e': 1.0}, 'i be': {'d': 1.0}, ' bed': {'i': 1.0}, 'bedi': {'y': 1.0}, 'ediy': {'a': 1.0}, 'diya': {'n': 1.0}, 'iyan': {' ': 1.0}, 'yan ': {'p': 1.0}, 'an p': {'i': 0.5, 'a': 0.5}, 'n pi': {'g': 1.0}, ' pig': {'h': 1.0}, 'pigh': {'l': 1.0}, 'ighl': {'a': 1.0}, 'ghla': {'y': 1.0}, 'hlay': {'e': 1.0}, 'laye': {'g': 1.0}, 'ga\\nJ': {'i': 1.0}, 'a\\nJi': {'t': 1.0}, '\\nJit': {'n': 1.0}, 'Jitn': {'a': 0.5, 'i': 0.5}, 'itna': {' ': 1.0}, 'tna ': {'t': 0.5, 'h': 0.5}, 'a to': {'o': 1.0}, ' too': {'n': 1.0}, 'toon': {'e': 1.0}, 'oone': {' ': 1.0}, 'one ': {'b': 1.0}, 'ne b': {'o': 1.0}, 'e bo': {'y': 1.0}, ' boy': {'a': 1.0}, 'boya': {' ': 1.0}, 'oya ': {'h': 1.0}, 'ya h': {'a': 1.0}, 'a ha': {'i': 0.8333333333333334, 't': 0.16666666666666666}, ' hai': {' ': 0.16666666666666666, '\\n': 0.7222222222222222, 'r': 0.05555555555555555, ',': 0.05555555555555555}, 'hai ': {'t': 0.25, 's': 0.25, 'c': 0.25, 'j': 0.25}, 'ai t': {'u': 1.0}, 'i tu': {'\\n': 1.0}, ' tu\\n': {'U': 1.0}, 'tu\\nU': {'t': 1.0}, 'u\\nUt': {'n': 1.0}, '\\nUtn': {'a': 0.5, 'i': 0.5}, 'Utna': {' ': 1.0}, 'na h': {'i': 1.0}, 'a hi': {' ': 1.0}, ' hi ': {'t': 0.8333333333333334, 'b': 0.16666666666666666}, 'hi t': {'o': 0.8333333333333334, 'h': 0.16666666666666666}, 'i to': {' ': 1.0}, ' to ': {'k': 0.2, 'a': 0.8}, 'to k': {'h': 1.0}, 'o kh': {'a': 1.0}, ' kha': {'a': 0.5, 'u': 0.5}, 'khaa': {'y': 1.0}, 'haay': {'e': 1.0}, 'a\\nAi': {'s': 1.0}, '\\nAis': {'a': 1.0}, 'Aisa': {' ': 1.0}, 'sa m': {'e': 1.0}, 'a me': {'r': 1.0}, ' mer': {'a': 1.0}, 'mera': {' ': 1.0}, 'era ': {'k': 1.0}, 'ra k': {'h': 1.0}, 'a kh': {'w': 0.6666666666666666, 'u': 0.3333333333333333}, ' khw': {'a': 1.0}, 'khwa': {'a': 1.0}, 'hwaa': {'b': 1.0}, 'waab': {' ': 0.5, '\\n': 0.5}, 'aab ': {'h': 1.0}, 'ab h': {'a': 1.0}, 'b ha': {'i': 0.5, 'u': 0.5}, 'hai\\n': {'J': 0.07692307692307693, 'K': 0.46153846153846156, 'P': 0.07692307692307693, 'Z': 0.07692307692307693, ' ': 0.15384615384615385, 'S': 0.07692307692307693, 'T': 0.07692307692307693}, 'ai\\nJ': {'o': 1.0}, 'i\\nJo': {' ': 1.0}, '\\nJo ': {'d': 1.0}, 'Jo d': {'a': 1.0}, 'o da': {'r': 1.0}, ' dar': {'r': 1.0}, 'darr': {' ': 1.0}, 'arr ': {'k': 1.0}, 'rr k': {'o': 1.0}, 'r ko': {' ': 1.0}, ' ko ': {'b': 0.5, 'c': 0.5}, 'ko b': {'h': 1.0}, 'o bh': {'i': 1.0}, ' sat': {'a': 1.0}, 'sata': {'y': 1.0}, 'atay': {'e': 1.0}, 'taye': {'g': 1.0}, 'ga\\nZ': {'i': 1.0}, 'a\\nZi': {'n': 1.0}, '\\nZin': {'d': 1.0}, 'Zind': {'a': 1.0}, 'inda': {' ': 1.0}, 'nda ': {'m': 1.0}, 'da m': {'e': 1.0}, 'aab\\n': {'A': 1.0}, 'ab\\nA': {'b': 1.0}, 'b\\nAb': {' ': 1.0}, '\\nAb ': {'k': 0.6666666666666666, 'h': 0.3333333333333333}, 'Ab k': {'a': 0.5, 'h': 0.5}, 'b ka': {'i': 1.0}, ' kai': {'s': 1.0}, 'kais': {'e': 1.0}, 'aise': {' ': 1.0}, 'ise ': {'t': 1.0}, 'se t': {'u': 1.0}, 'e tu': {' ': 1.0}, ' tu ': {'d': 0.5, 'g': 0.5}, 'tu d': {'a': 1.0}, 'u da': {'f': 1.0}, ' daf': {'n': 1.0}, 'dafn': {'a': 1.0}, 'afna': {'y': 1.0}, 'fnay': {'e': 1.0}, 'naye': {'g': 1.0}, '\\n \\nA': {'b': 1.0}, ' \\nAb': {' ': 1.0}, 'Ab h': {'a': 1.0}, ' hau': {'s': 1.0}, 'haus': {'l': 1.0}, 'ausl': {'e': 1.0}, 'usle': {' ': 1.0}, 'sle ': {'s': 1.0}, 'le s': {'e': 1.0}, 'e se': {' ': 0.5, '\\n': 0.5}, ' se ': {'j': 0.5, 'm': 0.5}, 'se j': {'e': 1.0}, 'e je': {'e': 1.0}, ' jee': {'n': 1.0}, 'jeen': {'e': 1.0}, 'eene': {' ': 0.8, 'n': 0.2}, 'ene ': {'d': 0.25, 'm': 0.5, 's': 0.25}, 'ne d': {'e': 1.0}, 'e de': {'\\n': 1.0}, ' de\\n': {'A': 1.0}, 'de\\nA': {'b': 1.0}, 'e\\nAb': {' ': 1.0}, 'b kh': {'a': 1.0}, 'khau': {'f': 1.0}, 'hauf': {' ': 1.0}, 'auf ': {'n': 1.0}, 'uf n': {'a': 1.0}, 'f na': {'h': 1.0}, ' nah': {'i': 1.0}, 'nahi': {' ': 0.6, '\\n': 0.2, 'n': 0.2}, 'ahi ': {'h': 0.6666666666666666, 't': 0.3333333333333333}, 'hi h': {'a': 1.0}, 'i ha': {'i': 0.9, 'r': 0.1}, 'ai s': {'e': 1.0}, 'i se': {'e': 1.0}, ' see': {'n': 1.0}, 'seen': {'e': 1.0}, 'ne m': {'e': 1.0}, 'e me': {'i': 1.0}, 'in\\nH': {'a': 1.0}, 'n\\nHa': {'r': 1.0}, '\\nHar': {' ': 1.0}, 'Har ': {'r': 1.0}, 'ar r': {'a': 1.0}, 'r ra': {'a': 1.0}, 'raas': {'t': 1.0}, 'aast': {'e': 1.0}, 'aste': {' ': 1.0}, 'ste ': {'k': 1.0}, 'te k': {'o': 1.0}, 'e ko': {' ': 1.0}, 'ko c': {'h': 1.0}, 'o ch': {'e': 1.0}, ' che': {'e': 1.0}, 'chee': {'r': 1.0}, 'heer': {'e': 1.0}, 'eere': {'n': 1.0}, 'eren': {'g': 1.0}, 'reng': {'e': 1.0}, 'enge': {'\\n': 1.0}, 'nge\\n': {'H': 0.5, 'S': 0.5}, 'ge\\nH': {'u': 1.0}, 'e\\nHu': {'m': 1.0}, '\\nHum': {' ': 1.0}, 'Hum ': {'k': 1.0}, 'um k': {'a': 1.0}, 'm ka': {'a': 1.0}, ' kaa': {'m': 1.0}, 'kaam': {'y': 1.0}, 'aamy': {'a': 1.0}, 'amya': {'b': 1.0}, 'myab': {'i': 1.0}, 'yabi': {' ': 1.0}, 'abi ': {'c': 1.0}, 'bi c': {'h': 1.0}, 'i ch': {'h': 0.5, 'a': 0.5}, ' chh': {'e': 1.0}, 'chhe': {'e': 1.0}, 'hhee': {'n': 1.0}, 'heen': {'e': 1.0}, 'enen': {'g': 1.0}, 'neng': {'e': 1.0}, 'ge\\nS': {'a': 1.0}, 'e\\nSa': {'b': 1.0}, '\\nSab': {' ': 1.0}, 'Sab ': {'k': 1.0}, 'ab k': {'u': 1.0}, 'b ku': {'c': 1.0}, ' kuc': {'h': 1.0}, 'kuch': {'h': 1.0}, 'uchh': {' ': 1.0}, 'chh ': {'m': 1.0}, 'hh m': {'i': 1.0}, 'h mi': {'l': 1.0}, 'mila': {' ': 1.0}, 'ila ': {'p': 1.0}, 'la p': {'a': 1.0}, 'a pa': {'s': 1.0}, ' pas': {'e': 1.0}, 'pase': {'e': 1.0}, 'asee': {'n': 1.0}, 'ne s': {'e': 1.0}, 'se\\nM': {'a': 1.0}, 'e\\nMa': {'t': 1.0}, '\\nMat': {'l': 1.0}, 'Matl': {'a': 1.0}, 'atla': {'b': 1.0}, 'tlab': {' ': 1.0}, 'lab ': {'b': 1.0}, 'ab b': {'a': 1.0}, 'b ba': {'n': 1.0}, ' ban': {'a': 1.0}, 'bana': {' ': 1.0}, 'na a': {'b': 1.0}, 'ab j': {'e': 1.0}, 'b je': {'e': 1.0}, 'in\\n ': {'\\n': 1.0}, 'n\\n \\n': {'K': 1.0}, '\\n \\nK': {'y': 0.5, 'i': 0.5}, ' \\nKy': {'o': 1.0}, '\\nKyo': {'n': 1.0}, 'Kyon': {'\\n': 0.25, ' ': 0.5, '?': 0.25}, 'yon\\n': {'K': 1.0}, 'on\\nK': {'y': 1.0}, 'n\\nKy': {'o': 1.0}, 'yon ': {'k': 1.0}, 'n ki': {' ': 1.0}, ' ki ': {'a': 0.375, 'm': 0.125, 'h': 0.5}, 'ki a': {'p': 0.3333333333333333, 'b': 0.6666666666666666}, 'i ap': {'n': 1.0}, '\\n \\nT': {'u': 0.8, 'a': 0.2}, ' \\nTu': {' ': 1.0}, 'Tu n': {'a': 1.0}, 'u na': {'n': 1.0}, ' nan': {'g': 1.0}, 'nang': {'a': 1.0}, 'anga': {' ': 1.0}, 'nga ': {'h': 1.0}, 'ga h': {'i': 1.0}, 'to a': {'a': 1.0}, 'o aa': {'y': 1.0}, 'aaya': {' ': 1.0}, 'aya ': {'h': 0.8, 'k': 0.2}, 'ai\\nK': {'y': 1.0}, 'i\\nKy': {'a': 0.6666666666666666, 'o': 0.3333333333333333}, '\\nKya': {' ': 1.0}, 'Kya ': {'g': 0.8, 't': 0.2}, 'ya g': {'h': 1.0}, 'a gh': {'a': 1.0}, ' gha': {'n': 1.0}, 'ghan': {'t': 1.0}, 'hant': {'a': 1.0}, 'anta': {' ': 1.0}, 'nta ': {'l': 1.0}, 'ta l': {'e': 1.0}, 'a le': {'k': 1.0}, ' lek': {'a': 1.0}, 'leka': {'r': 1.0}, 'ekar': {' ': 0.8, '.': 0.2}, 'kar ': {'j': 1.0}, 'ar j': {'a': 1.0}, 'r ja': {'a': 1.0}, ' jaa': {'y': 1.0}, 'jaay': {'e': 1.0}, 'a\\nAp': {'n': 1.0}, '\\nApn': {'a': 1.0}, 'ga x': {' ': 1.0}, 'a x ': {'(': 1.0}, ' x (': {'2': 1.0}, 'x (2': {')': 1.0}, ' (2)': {'\\n': 1.0}, '(2)\\n': {' ': 1.0}, '2)\\n ': {'\\n': 1.0}, ')\\n \\n': {'T': 1.0}, 'kar.': {'.': 1.0}, 'ar..': {'\\n': 1.0}, 'r..\\n': {' ': 1.0}, '..\\n ': {'\\n': 1.0}, '.\\n \\n': {'K': 1.0}, ' \\nKi': {'s': 1.0}, '\\nKis': {'s': 1.0}, 'Kiss': {'i': 1.0}, 'issi': {' ': 1.0}, 'ssi ': {'k': 1.0}, 'si k': {'a': 1.0}, 'i ka': {' ': 1.0}, 'ka h': {'a': 1.0}, ' hat': {'h': 1.0}, 'hath': {' ': 1.0}, 'ath ': {'n': 1.0}, 'th n': {'a': 1.0}, 'h na': {'h': 0.3333333333333333, 'i': 0.6666666666666666}, 'i th': {'a': 1.0}, ' tha': {' ': 1.0}, 'tha ': {'s': 1.0}, 'ha s': {'a': 1.0}, 'a sa': {'r': 1.0}, 'ar p': {'a': 1.0}, 'r pa': {'r': 1.0}, 'par\\n': {'Y': 1.0}, 'ar\\nY': {'a': 1.0}, 'r\\nYa': {'h': 1.0}, '\\nYah': {'a': 1.0}, 'Yaha': {'a': 1.0}, 'ahaa': {'n': 1.0}, 'aan ': {'p': 0.5, 'm': 0.5}, 'n pa': {'r': 1.0}, 'par ': {'a': 1.0}, 'ar a': {'a': 1.0}, 'r aa': {'y': 1.0}, 'ya k': {'h': 1.0}, ' khu': {'d': 1.0}, 'khud': {' ': 1.0}, 'hud ': {'k': 1.0}, 'ud k': {'i': 1.0}, 'd ki': {' ': 1.0}, 'ki m': {'e': 1.0}, 'i me': {'h': 1.0}, ' meh': {'n': 1.0}, 'mehn': {'a': 1.0}, 'ehna': {'t': 1.0}, 'hnat': {' ': 1.0}, 'nat ': {'s': 0.5, 'k': 0.5}, 'at s': {'e': 1.0}, 't se': {' ': 1.0}, 'se m': {'a': 1.0}, 'e ma': {'i': 1.0}, ' mai': {'n': 1.0}, 'main': {'\\n': 1.0}, 'ain\\n': {'J': 1.0}, 'in\\nJ': {'i': 1.0}, 'n\\nJi': {'t': 1.0}, 'itni': {' ': 1.0}, 'tni ': {'t': 0.5, 'r': 0.5}, 'ni t': {'a': 1.0}, 'i ta': {'a': 1.0}, ' taa': {'k': 1.0}, 'taak': {'a': 1.0}, 'aaka': {'t': 1.0}, 'akat': {' ': 1.0}, 'kat ': {'k': 0.6, 'n': 0.2, 'd': 0.2}, 'at k': {'i': 1.0}, 't ki': {'s': 0.09090909090909091, ' ': 0.36363636363636365, '\\n': 0.36363636363636365, ',': 0.18181818181818182}, ' kis': {'m': 1.0}, 'kism': {'a': 1.0}, 'isma': {'t': 1.0}, 'smat': {' ': 1.0}, 'mat ': {'m': 0.6666666666666666, 'n': 0.3333333333333333}, 'at m': {'e': 1.0}, 't me': {'i': 1.0}, 'ein ': {'n': 0.5, 'h': 0.5}, 'in n': {'a': 1.0}, 'n na': {'h': 1.0}, 'ahi\\n': {'U': 1.0}, 'hi\\nU': {'t': 1.0}, 'i\\nUt': {'n': 1.0}, 'Utni': {' ': 1.0}, 'i re': {'h': 1.0}, ' reh': {'m': 1.0}, 'rehm': {'a': 1.0}, 'ehma': {'t': 1.0}, 'hmat': {' ': 1.0}, 'in h': {'a': 1.0}, 'n ha': {'i': 1.0}, 'ai\\nP': {'h': 1.0}, 'i\\nPh': {'i': 1.0}, '\\nPhi': {'r': 1.0}, 'Phir': {' ': 1.0}, 'hir ': {'b': 1.0}, 'ir b': {'h': 1.0}, 'r bh': {'i': 1.0}, 'hi l': {'a': 1.0}, 'i la': {'d': 1.0}, ' lad': {'k': 1.0}, 'ladk': {'a': 1.0}, 'adka': {' ': 1.0}, 'dka ': {'s': 1.0}, 'ka s': {'e': 1.0}, 'a se': {'h': 1.0}, ' seh': {'m': 1.0}, 'sehm': {'a': 1.0}, 'at n': {'a': 0.6666666666666666, 'e': 0.3333333333333333}, 't na': {'h': 1.0}, 'ahin': {' ': 1.0}, 'hin ': {'h': 1.0}, 'ki h': {'a': 1.0}, 'hair': {'a': 1.0}, 'aira': {'t': 1.0}, 'irat': {' ': 1.0}, 'rat ': {'n': 0.25, 'y': 0.25, 'k': 0.5}, 'ai\\nZ': {'a': 1.0}, 'i\\nZa': {'r': 1.0}, '\\nZar': {'o': 1.0}, 'Zaro': {'o': 1.0}, 'aroo': {'r': 1.0}, 'roor': {'a': 1.0}, 'oora': {'t': 1.0}, 'orat': {' ': 1.0}, 'at y': {'a': 0.5, 'e': 0.5}, 't ya': {'h': 1.0}, ' yah': {'a': 1.0}, 'yaha': {'a': 1.0}, 'an m': {'a': 1.0}, 'n ma': {'r': 1.0}, ' mar': {'z': 1.0}, 'marz': {'i': 1.0}, 'arzi': {' ': 1.0}, 'rzi ': {'k': 1.0}, 'zi k': {'i': 1.0}, 'i ki': {'\\n': 1.0}, 'i\\nAu': {'r': 1.0}, '\\nAur': {' ': 1.0}, 'Aur ': {'j': 1.0}, 'ur j': {'u': 1.0}, 'r ju': {'r': 1.0}, ' jur': {'r': 1.0}, 'jurr': {'a': 1.0}, 'urra': {'t': 1.0}, 'rrat': {' ': 1.0}, 'ai\\n ': {'\\n': 1.0}, 'i\\n \\n': {'T': 0.5, 'I': 0.5}, ' \\nTa': {'a': 1.0}, '\\nTaa': {'k': 1.0}, 'Taak': {'a': 1.0}, 'hai,': {' ': 1.0}, 'ai, ': {'a': 1.0}, 'i, a': {'a': 0.5, 'm': 0.5}, ', aa': {'f': 1.0}, ' aaf': {'a': 1.0}, 'aafa': {'t': 1.0}, 'afat': {' ': 1.0}, 'fat ': {'k': 1.0}, 'ki\\nH': {'i': 1.0}, 'i\\nHi': {'m': 1.0}, '\\nHim': {'a': 1.0}, 'Hima': {'a': 1.0}, 'imaa': {'k': 1.0}, 'maak': {'a': 1.0}, ' ki,': {' ': 1.0}, 'ki, ': {'i': 0.5, 'a': 0.5}, 'i, i': {'b': 1.0}, ', ib': {'a': 1.0}, ' iba': {'a': 1.0}, 'ibaa': {'d': 1.0}, 'baad': {'a': 1.0}, 'aada': {'t': 1.0}, 'adat': {' ': 1.0}, 'dat ': {'k': 1.0}, 'i\\nAd': {'a': 1.0}, '\\nAda': {'l': 1.0}, 'Adal': {'a': 1.0}, 'dala': {'t': 1.0}, 'alat': {' ': 1.0}, 'lat ': {'y': 1.0}, 't ye': {'h': 1.0}, ' yeh': {' ': 1.0}, 'yeh ': {'h': 1.0}, 'eh h': {'a': 1.0}, 'h ha': {'i': 1.0}, 'ai c': {'h': 1.0}, ' cha': {'h': 1.0}, 'chah': {'a': 1.0}, 'haha': {'t': 1.0}, 'ahat': {' ': 1.0}, 'hat ': {'k': 1.0}, 'ki\\nM': {'o': 1.0}, 'i\\nMo': {'h': 1.0}, '\\nMoh': {'o': 1.0}, 'Moho': {'b': 1.0}, 'ohob': {'b': 1.0}, 'hobb': {'a': 1.0}, 'obba': {'t': 1.0}, 'bbat': {' ': 1.0}, 'bat ': {'k': 1.0}, ', am': {'a': 1.0}, ' ama': {'a': 1.0}, 'amaa': {'n': 1.0}, 'maan': {'a': 1.0}, 'anat': {' ': 1.0}, 'ki\\nJ': {'e': 1.0}, 'i\\nJe': {'e': 1.0}, '\\nJee': {'t': 1.0}, 'Jeet': {'n': 1.0}, 'eetn': {'e': 1.0}, 'etne': {' ': 1.0}, 'tne ': {'k': 1.0}, 'i ab': {' ': 1.0}, 'ab a': {'a': 1.0}, 'b aa': {'d': 1.0}, ' aad': {'a': 1.0}, 'ai\\nS': {'h': 1.0}, 'i\\nSh': {'o': 1.0}, '\\nSho': {'h': 1.0}, 'Shoh': {'r': 1.0}, 'hohr': {'a': 1.0}, 'ohra': {'t': 1.0}, 'hrat': {' ': 1.0}, 'ab l': {'a': 1.0}, 'b la': {'a': 1.0}, ' laa': {'l': 1.0}, 'laal': {'a': 1.0}, 'aala': {'c': 1.0}, 'alac': {'h': 1.0}, 'lach': {' ': 1.0}, 'ach ': {'n': 1.0}, 'ch n': {'a': 1.0}, ' nai': {' ': 1.0}, 'nai ': {'h': 1.0}, 'ai h': {'a': 1.0}, 'ai\\nT': {'e': 1.0}, 'i\\nTe': {'r': 1.0}, '\\nTer': {'e': 1.0}, 'Tere': {' ': 1.0}, 're b': {'h': 1.0}, 'e bh': {'a': 1.0}, ' bha': {'i': 1.0}, 'bhai': {' ': 1.0}, 'ai j': {'a': 1.0}, 'i ja': {'i': 1.0}, 'sa k': {'o': 1.0}, 'a ko': {'y': 1.0}, ' koy': {'i': 1.0}, 'koyi': {' ': 1.0}, 'oyi ': {'h': 1.0}, 'yi h': {'a': 1.0}, ' har': {'d': 0.5, 'k': 0.5}, 'hard': {'â': 1.0}, 'ardâ': {'€': 1.0}, 'rdâ€': {'™': 1.0}, 'dâ€™': {'c': 1.0}, 'â€™c': {'h': 1.0}, '€™ch': {' ': 1.0}, '™ch ': {'n': 1.0}, '\\n \\nI': {'s': 1.0}, ' \\nIs': {'s': 1.0}, '\\nIss': {' ': 1.0}, 'Iss ': {'h': 1.0}, 'ss h': {'a': 1.0}, 's ha': {'r': 1.0}, 'hark': {'a': 1.0}, 'arka': {'t': 1.0}, 'rkat': {' ': 1.0}, 't ne': {' ': 1.0}, ' ne ': {'h': 1.0}, 'ne h': {'i': 1.0}, 'e hi': {' ': 1.0}, 'hi b': {'a': 1.0}, 'i ba': {'r': 1.0}, ' bar': {'k': 1.0}, 'bark': {'a': 1.0}, 'at d': {'i': 1.0}, 't di': {' ': 1.0}, ' di ': {'h': 1.0}, 'di h': {'a': 1.0}, 'yon?': {'\\n': 1.0}, 'on?\\n': {' ': 1.0}, 'n?\\n ': {'\\n': 1.0}, '?\\n \\n': {'T': 1.0}, 'ga\\nK': {'y': 1.0}, 'a\\nKy': {'a': 1.0}, 'ya t': {'u': 1.0}, 'a tu': {' ': 1.0}, 'tu g': {'h': 1.0}, 'u gh': {'a': 1.0}}\n"
     ]
    }
   ],
   "source": [
    "Dic = TextToFreq(song,k=4)\n",
    "Dic = FreqToProb(Dic)\n",
    "print(Dic)"
   ]
  },
  {
   "cell_type": "code",
   "execution_count": 92,
   "metadata": {},
   "outputs": [],
   "source": [
    "import numpy as np\n",
    "def GenerateNextCharacter(context,T,k=4):\n",
    "    # context : is a sentence to which we will append the next char\n",
    "    # T : dictionary\n",
    "    last_k_characters = context[-k:]\n",
    "    #if the last_k_characters exist in our dictionary, we will choose a next character. else we gonna put a space.\n",
    "    if last_k_characters not in T:\n",
    "        context+= ' '\n",
    "    else:\n",
    "        next_char_keys = list(T[last_k_characters])\n",
    "        next_char_possibility = list(T[last_k_characters].values())\n",
    "        next_character = np.random.choice(next_char_keys,p=next_char_possibility)\n",
    "        context+= next_character\n",
    "    return context"
   ]
  },
  {
   "cell_type": "code",
   "execution_count": 93,
   "metadata": {},
   "outputs": [],
   "source": [
    "def GenerateText(sentence,T,max_length):\n",
    "    for i in range(max_length):\n",
    "        sentence = GenerateNextChar(sentence,T,k=3)\n",
    "    return sentence"
   ]
  },
  {
   "cell_type": "code",
   "execution_count": 94,
   "metadata": {},
   "outputs": [
    {
     "name": "stdout",
     "output_type": "stream",
     "text": [
      "apna                                                                                                                                                                                                                                                                                                                                                                                                                                                                                                                                                                                                                                                                                                                                                                                                                                                                                                                                                                                                                                                                                                                                                                                                                                                                                                                                                                                                                                                                                                                                                                                                                                                                                                                                                                                                                                                                                                                                                                                                                                                                            \n"
     ]
    }
   ],
   "source": [
    "np.random.seed(11)\n",
    "start_word = 'apna'\n",
    "start_word = GenerateText(start_word,Dic,max_length=1996)\n",
    "print(new_song)\n"
   ]
  },
  {
   "cell_type": "code",
   "execution_count": null,
   "metadata": {},
   "outputs": [],
   "source": []
  },
  {
   "cell_type": "code",
   "execution_count": null,
   "metadata": {},
   "outputs": [],
   "source": []
  },
  {
   "cell_type": "code",
   "execution_count": null,
   "metadata": {},
   "outputs": [],
   "source": []
  },
  {
   "cell_type": "code",
   "execution_count": null,
   "metadata": {},
   "outputs": [],
   "source": []
  },
  {
   "cell_type": "code",
   "execution_count": null,
   "metadata": {},
   "outputs": [],
   "source": []
  },
  {
   "cell_type": "code",
   "execution_count": null,
   "metadata": {},
   "outputs": [],
   "source": []
  },
  {
   "cell_type": "code",
   "execution_count": null,
   "metadata": {},
   "outputs": [],
   "source": []
  },
  {
   "cell_type": "code",
   "execution_count": null,
   "metadata": {},
   "outputs": [],
   "source": []
  }
 ],
 "metadata": {
  "kernelspec": {
   "display_name": "Python 3",
   "language": "python",
   "name": "python3"
  },
  "language_info": {
   "codemirror_mode": {
    "name": "ipython",
    "version": 3
   },
   "file_extension": ".py",
   "mimetype": "text/x-python",
   "name": "python",
   "nbconvert_exporter": "python",
   "pygments_lexer": "ipython3",
   "version": "3.7.9"
  }
 },
 "nbformat": 4,
 "nbformat_minor": 4
}
